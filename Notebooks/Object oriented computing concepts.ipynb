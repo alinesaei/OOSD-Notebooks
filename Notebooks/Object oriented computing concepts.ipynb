{
 "cells": [
  {
   "cell_type": "markdown",
   "id": "9dfe9f22",
   "metadata": {},
   "source": [
    "## Class\n",
    "\n",
    "In programming, a class is a blueprint or a template that defines the structure and behavior of objects. It serves as a blueprint for creating instances (objects) that share similar attributes and behaviors. A class encapsulates data (attributes) and functions (methods) into a single unit, allowing objects to be created based on its specifications."
   ]
  },
  {
   "cell_type": "markdown",
   "id": "1dac8232",
   "metadata": {},
   "source": [
    "Example in Python:"
   ]
  },
  {
   "cell_type": "markdown",
   "id": "a834a3d3",
   "metadata": {},
   "source": [
    "    Defining a Class in Python\n",
    "    keyword : class\n",
    "    class <name_of_the_class>"
   ]
  },
  {
   "cell_type": "code",
   "execution_count": 4,
   "id": "a35bba95",
   "metadata": {},
   "outputs": [],
   "source": [
    "class Car:\n",
    "    # Class Attribute\n",
    "    category = \"Automobile\"\n",
    "    \n",
    "    #Constructor Method\n",
    "    def __init__(self, brand, model, year):\n",
    "        # Instance attribute\n",
    "        self.brand = brand\n",
    "        self.model = model\n",
    "        self.year = year\n",
    "    \n",
    "    # Instance Method\n",
    "    def start_engine(self):\n",
    "        print(\"Engine started for\", self.brand, self.model)"
   ]
  },
  {
   "cell_type": "markdown",
   "id": "fff21e14",
   "metadata": {},
   "source": [
    "In the above example, a class named Car is defined. It has a class attribute category that represents the general category of the vehicles. The constructor method \\__init__ initializes the instance attributes brand, model, and year when creating objects from the class. The class also has an instance method start_engine that prints a message indicating the engine start for a specific car."
   ]
  },
  {
   "cell_type": "markdown",
   "id": "9db57cff",
   "metadata": {},
   "source": [
    "[More about classes in python](https://docs.python.org/3/tutorial/classes.html)"
   ]
  },
  {
   "cell_type": "markdown",
   "id": "da367503",
   "metadata": {},
   "source": [
    "## Variables\n",
    "\n",
    "In object-oriented programming, there are different types of variables based on their scope and purpose within a class:\n",
    "\n",
    "- Member variables (Fields): Member variables, also known as fields or instance variables, are variables declared within a class and are specific to each object or instance of the class. These variables hold data that represnts the state or characteristics of an object. They are accessible throughout the class and can be used to store and retrieve data associated with individual objects.\n",
    "\n",
    "    *Model* and *brand* are member variables or field in the [example](#target-1) above"
   ]
  },
  {
   "cell_type": "code",
   "execution_count": null,
   "id": "7fdd1e19",
   "metadata": {},
   "outputs": [],
   "source": []
  }
 ],
 "metadata": {
  "celltoolbar": "Tags",
  "kernelspec": {
   "display_name": "Python 3 (ipykernel)",
   "language": "python",
   "name": "python3"
  },
  "language_info": {
   "codemirror_mode": {
    "name": "ipython",
    "version": 3
   },
   "file_extension": ".py",
   "mimetype": "text/x-python",
   "name": "python",
   "nbconvert_exporter": "python",
   "pygments_lexer": "ipython3",
   "version": "3.9.12"
  }
 },
 "nbformat": 4,
 "nbformat_minor": 5
}
